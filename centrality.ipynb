{
 "cells": [
  {
   "cell_type": "markdown",
   "metadata": {},
   "source": [
    "## Question abordée"
   ]
  },
  {
   "cell_type": "markdown",
   "metadata": {},
   "source": [
    "Qu'est-ce que c'est la centralité dans le graphe ? Trier par centralité et essayer de trouver des corrélations avec d'autres données."
   ]
  },
  {
   "cell_type": "code",
   "execution_count": null,
   "metadata": {},
   "outputs": [],
   "source": [
    "import numpy as np\n",
    "import pandas as pd\n",
    "import json\n",
    "import networkx as nx\n",
    "import matplotlib.pyplot as plt\n",
    "import collections"
   ]
  },
  {
   "cell_type": "code",
   "execution_count": null,
   "metadata": {},
   "outputs": [],
   "source": [
    "import os\n",
    "for dirname, _, filenames in os.walk('.'):\n",
    "    for filename in filenames:\n",
    "        print(os.path.join(dirname, filename))"
   ]
  },
  {
   "cell_type": "code",
   "execution_count": null,
   "metadata": {},
   "outputs": [],
   "source": [
    "with open(\"dataset/musae_FR_features.json\") as json_data:\n",
    "    data_raw = json.load(json_data)\n",
    "\n",
    "\n",
    "edge_data = pd.read_csv('dataset/musae_FR_edges.csv')\n",
    "target_data = pd.read_csv('dataset/musae_FR_target.csv')\n",
    "target_data['mature'] = target_data['mature'].astype(int)"
   ]
  },
  {
   "cell_type": "code",
   "execution_count": null,
   "metadata": {},
   "outputs": [],
   "source": [
    "target_data.head()"
   ]
  },
  {
   "cell_type": "code",
   "execution_count": null,
   "metadata": {},
   "outputs": [],
   "source": [
    "feats=[]\n",
    "feat_counts=[]\n",
    "for i in range(len(data_raw)):\n",
    "    feat_counts+=[len(data_raw[str(i)])]\n",
    "    feats+=data_raw[str(i)]\n",
    "\n",
    "print(\"5 top nodes labels\")\n",
    "print(target_data.head(5).to_markdown())\n",
    "print()\n",
    "print(\"5 last nodes\")\n",
    "print(target_data.tail(5).to_markdown())"
   ]
  },
  {
   "cell_type": "code",
   "execution_count": null,
   "metadata": {},
   "outputs": [],
   "source": [
    "fig = plt.figure()\n",
    "ax = fig.add_axes([0,0,1,1])\n",
    "ax.set_xticks([0,1])\n",
    "ax.bar([0,1],list(collections.Counter(target_data.mature).values()));\n",
    "plt.title(\"Classes distribution\")\n",
    "plt.show()\n",
    "\n",
    "plt.hist(feat_counts,bins=20)\n",
    "plt.title(\"Number of features per graph distribution\")\n",
    "plt.yscale('log')\n",
    "plt.show()\n",
    "\n",
    "plt.hist(feats,bins=50)\n",
    "plt.title(\"Features distribution\")\n",
    "plt.show()"
   ]
  },
  {
   "cell_type": "code",
   "execution_count": null,
   "metadata": {},
   "outputs": [],
   "source": [
    "G = nx.from_pandas_edgelist(edge_data,source='from',target='to')\n",
    "num_nodes = G.number_of_nodes()\n",
    "num_edges = G.number_of_edges()\n",
    "is_directed = G.is_directed()\n",
    "\n",
    "print(f\"Number of nodes: {num_nodes}\")\n",
    "print(f\"Number of edges: {num_edges}\")\n",
    "print(f\"Is the graph directed? {is_directed}\")"
   ]
  },
  {
   "cell_type": "code",
   "execution_count": null,
   "metadata": {},
   "outputs": [],
   "source": [
    "centrality = nx.degree_centrality(G)\n",
    "\n",
    "centrality = sorted(centrality.items(), key=lambda item: -1*item[1])\n",
    "centrality[0], centrality[len(centrality) - 1][1], sum([1 for i in centrality if i[1] == centrality[len(centrality) - 1][1]])"
   ]
  },
  {
   "cell_type": "code",
   "execution_count": null,
   "metadata": {},
   "outputs": [],
   "source": [
    "node_index = centrality[0][0]\n",
    "\n",
    "edge_index = edge_data.to_numpy()\n",
    "edge_example = edge_index[np.where((edge_index == node_index).any(axis=1))]\n",
    "node_example = np.unique(edge_example.flatten())\n",
    "\n",
    "plt.figure(figsize=(10, 6))\n",
    "G = nx.Graph()\n",
    "G.add_nodes_from(node_example)\n",
    "G.add_edges_from(list(zip(edge_example[0], edge_example[1])))\n",
    "nx.draw_networkx(G, with_labels=True, node_color='skyblue', edge_color='gray', node_size=700, font_size=12)\n",
    "plt.title(\"Neighborhood of node \" + str(node_index))\n",
    "plt.show()"
   ]
  },
  {
   "cell_type": "markdown",
   "metadata": {},
   "source": [
    "Pour connaitre les 10 noeuds les plus connectés:"
   ]
  },
  {
   "cell_type": "code",
   "execution_count": null,
   "metadata": {},
   "outputs": [],
   "source": [
    "import heapq\n",
    "\n",
    "heapq.nlargest(5, dict(centrality), key=dict(centrality).get)"
   ]
  },
  {
   "cell_type": "code",
   "execution_count": null,
   "metadata": {},
   "outputs": [],
   "source": [
    "close_centrality = nx.closeness_centrality(G)"
   ]
  },
  {
   "cell_type": "code",
   "execution_count": null,
   "metadata": {},
   "outputs": [],
   "source": [
    "sorted(list(close_centrality.items()), key=lambda x: x[1], reverse=True)"
   ]
  },
  {
   "cell_type": "code",
   "execution_count": null,
   "metadata": {},
   "outputs": [],
   "source": [
    "heapq.nlargest(5, close_centrality, key=close_centrality.get)"
   ]
  },
  {
   "cell_type": "markdown",
   "metadata": {},
   "source": [
    "Remarque: Les quatres premiers nodes sont communs aux deux metriques."
   ]
  },
  {
   "cell_type": "code",
   "execution_count": null,
   "metadata": {},
   "outputs": [],
   "source": [
    "centrality_between = nx.betweenness_centrality(G)"
   ]
  },
  {
   "cell_type": "code",
   "execution_count": null,
   "metadata": {},
   "outputs": [],
   "source": [
    "sorted(list(centrality_between.items()), key=lambda x: x[1], reverse=True)"
   ]
  }
 ],
 "metadata": {
  "kernelspec": {
   "display_name": "Python 3",
   "language": "python",
   "name": "python3"
  },
  "language_info": {
   "codemirror_mode": {
    "name": "ipython",
    "version": 3
   },
   "file_extension": ".py",
   "mimetype": "text/x-python",
   "name": "python",
   "nbconvert_exporter": "python",
   "pygments_lexer": "ipython3",
   "version": "3.8.10"
  }
 },
 "nbformat": 4,
 "nbformat_minor": 2
}
