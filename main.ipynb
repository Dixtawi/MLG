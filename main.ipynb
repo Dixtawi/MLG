{
 "cells": [
  {
   "cell_type": "code",
   "execution_count": 1,
   "metadata": {},
   "outputs": [],
   "source": [
    "import pandas as pd"
   ]
  },
  {
   "cell_type": "code",
   "execution_count": 3,
   "metadata": {},
   "outputs": [],
   "source": [
    "df = pd.read_csv('./datasetV2.csv')"
   ]
  },
  {
   "cell_type": "code",
   "execution_count": 8,
   "metadata": {},
   "outputs": [
    {
     "data": {
      "text/plain": [
       "RANK                                              1\n",
       "NAME                                       kaicenat\n",
       "LANGUAGE                                    English\n",
       "TYPE                                    personality\n",
       "MOST_STREAMED_GAME                    Just Chatting\n",
       "2ND_MOST_STREAMED_GAME            I'm Only Sleeping\n",
       "AVERAGE_STREAM_DURATION                         7.6\n",
       "FOLLOWERS_GAINED_PER_STREAM                   18405\n",
       "AVG_VIEWERS_PER_STREAM                        15852\n",
       "AVG_GAMES_PER_STREAM                            2.3\n",
       "TOTAL_TIME_STREAMED                            4698\n",
       "TOTAL_FOLLOWERS                            10600000\n",
       "TOTAL_VIEWS                                 9150000\n",
       "TOTAL_GAMES_STREAMED                            194\n",
       "ACTIVE_DAYS_PER_WEEK                            3.6\n",
       "MOST_ACTIVE_DAY                              Friday\n",
       "DAY_WITH_MOST_FOLLOWERS_GAINED             Saturday\n",
       "Name: 0, dtype: object"
      ]
     },
     "execution_count": 8,
     "metadata": {},
     "output_type": "execute_result"
    }
   ],
   "source": [
    "df.iloc[0]"
   ]
  }
 ],
 "metadata": {
  "kernelspec": {
   "display_name": "Python 3",
   "language": "python",
   "name": "python3"
  },
  "language_info": {
   "codemirror_mode": {
    "name": "ipython",
    "version": 3
   },
   "file_extension": ".py",
   "mimetype": "text/x-python",
   "name": "python",
   "nbconvert_exporter": "python",
   "pygments_lexer": "ipython3",
   "version": "3.8.10"
  },
  "orig_nbformat": 4
 },
 "nbformat": 4,
 "nbformat_minor": 2
}
