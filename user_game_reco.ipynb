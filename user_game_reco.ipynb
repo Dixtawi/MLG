{
 "cells": [
  {
   "cell_type": "code",
   "execution_count": null,
   "metadata": {},
   "outputs": [],
   "source": [
    "%pip install torch-geometric community python-louvain"
   ]
  },
  {
   "cell_type": "code",
   "execution_count": null,
   "metadata": {},
   "outputs": [],
   "source": [
    "from torch_geometric.datasets import Twitch\n",
    "from torch_geometric.utils import to_networkx\n",
    "import collections\n",
    "import pandas as pd\n",
    "import numpy as np\n",
    "import networkx as nx\n",
    "import matplotlib.pyplot as plt\n",
    "import json\n",
    "import community as community_louvain"
   ]
  },
  {
   "cell_type": "markdown",
   "metadata": {},
   "source": [
    "\n",
    "(Lien avec Recommendation System)\n",
    "-> Détection de communauté et proposition d'amis proches\n",
    "\n",
    "Prédiction d'attribut de node (jeux joués) :\n",
    "\n",
    "- récupération d'attributs des nodes\n",
    "- attribut 1 en binaire :\n",
    "  - si joué ou non\n",
    "  - prédire si le jeu pourrait l'intéresser"
   ]
  },
  {
   "cell_type": "markdown",
   "metadata": {},
   "source": [
    "- amis d'amis\n",
    "- mêmes jeux joués"
   ]
  },
  {
   "cell_type": "code",
   "execution_count": null,
   "metadata": {},
   "outputs": [],
   "source": [
    "with open(\"data/Twitch/FR/musae_FR_features.json\") as json_data:\n",
    "    data_raw = json.load(json_data)\n",
    "\n",
    "edge_data = pd.read_csv('data/Twitch/FR/musae_FR_edges.csv')\n",
    "target_data = pd.read_csv('data/Twitch/FR/musae_FR_target.csv')\n",
    "target_data['mature'] = target_data['mature'].astype(int)\n",
    "\n",
    "edge_data.head()"
   ]
  },
  {
   "cell_type": "code",
   "execution_count": null,
   "metadata": {},
   "outputs": [],
   "source": [
    "target_data.head()"
   ]
  },
  {
   "cell_type": "code",
   "execution_count": null,
   "metadata": {},
   "outputs": [],
   "source": [
    "G = nx.Graph()\n",
    "\n",
    "for index, row in edge_data.iterrows():\n",
    "    G.add_edges_from([(row['from'], row['to'])])\n",
    "\n",
    "nx.draw(G, with_labels=False, node_size=50, node_color='skyblue', edge_color='gray')"
   ]
  },
  {
   "cell_type": "code",
   "execution_count": null,
   "metadata": {},
   "outputs": [],
   "source": [
    "partition = community_louvain.best_partition(G)\n",
    "pos = nx.spring_layout(G)\n",
    "cmap = plt.get_cmap('viridis', max(partition.values()) + 1)\n",
    "\n",
    "print(set(partition.values()))"
   ]
  },
  {
   "cell_type": "code",
   "execution_count": null,
   "metadata": {},
   "outputs": [],
   "source": [
    "legend_labels = []\n",
    "for community in set(partition.values()):\n",
    "    nodes = [node for node, comm in partition.items() if comm == community]\n",
    "    legend_labels.append(f\"Community {community}: {len(nodes)} nodes\")\n",
    "\n",
    "print(legend_labels)\n",
    "plt.figure(figsize=(10, 10))\n",
    "nx.draw(G, pos, node_size=40, cmap=cmap, node_color=list(partition.values()))\n",
    "plt.title(\"Community Detection using Louvain Method\")\n",
    "# plt.legend(legend_labels, loc='best')\n",
    "plt.axis('off')\n",
    "plt.show()"
   ]
  },
  {
   "cell_type": "markdown",
   "metadata": {},
   "source": [
    "Total communities"
   ]
  },
  {
   "cell_type": "code",
   "execution_count": null,
   "metadata": {},
   "outputs": [],
   "source": [
    "partitions = list(partition.values())\n",
    "partition_counts = collections.Counter(partitions)\n",
    "df_partitions = pd.DataFrame.from_dict(partition_counts, orient='index', columns=['Count'])\n",
    "\n",
    "df_partitions.plot(kind='bar', legend=False)\n",
    "plt.xlabel('Partition')\n",
    "plt.ylabel('Count')\n",
    "plt.title('Partition Distribution')\n",
    "plt.show()"
   ]
  },
  {
   "cell_type": "code",
   "execution_count": null,
   "metadata": {},
   "outputs": [],
   "source": [
    "# node_id = 0\n",
    "\n",
    "# def get_neighbors(G, node, depth=1):\n",
    "#     if (depth == 0):\n",
    "#         return node\n",
    "    \n",
    "#     neighbors = list(G.neighbors(node))\n",
    "#     if depth == 1:\n",
    "#         return neighbors\n",
    "#     else:\n",
    "#         k_neighbors = []\n",
    "#         for neighbor in neighbors:\n",
    "#             k_neighbors += get_neighbors(G, neighbor, depth-1)\n",
    "#         return list(set(k_neighbors))\n",
    "\n",
    "# def get_nb_neighbors(neighbors):\n",
    "#     return len(neighbors)\n",
    "\n",
    "# def get_similar_neighbors(node_neighbors, k_neighbors):\n",
    "#     return list(set(node_neighbors).intersection(set(k_neighbors)))\n",
    "\n",
    "# node_neighbors = get_neighbors(G, 0, 1)\n",
    "# k_neighbors = get_neighbors(G, 0, 2)\n",
    "\n",
    "# print(f'Number of neighbors for node {node_id}: {node_neighbors}')\n",
    "# print(f'Neighbors of node {node_id}: {get_nb_neighbors(node_neighbors)}')\n",
    "# print()\n",
    "# print(f'Number of second neighbors of node {node_id}: {k_neighbors}')\n",
    "# print(f'Second neighbors of node {node_id}: {get_nb_neighbors(k_neighbors)}')\n",
    "# print()\n",
    "# print(f'Similar neighbors of node {node_id} and second neighbors: {get_similar_neighbors(node_neighbors, k_neighbors)}')"
   ]
  },
  {
   "cell_type": "code",
   "execution_count": null,
   "metadata": {},
   "outputs": [],
   "source": [
    "node_id = 0"
   ]
  },
  {
   "cell_type": "code",
   "execution_count": null,
   "metadata": {},
   "outputs": [],
   "source": [
    "def similar_neighbors(G, node, threshold=5):\n",
    "    similar_neighbors = []\n",
    "    node_neighbors = list(G.neighbors(node))\n",
    "    for n in G.nodes():\n",
    "        if n == node or n in node_neighbors:\n",
    "            continue\n",
    "        \n",
    "        n_neighbors = list(G.neighbors(n))\n",
    "        similar_n = set(node_neighbors).intersection(set(n_neighbors))\n",
    "\n",
    "        if len(similar_n) >= threshold:\n",
    "            similar_neighbors.append(n)\n",
    "\n",
    "    return list(set(similar_neighbors))\n",
    "\n",
    "simil_neighbors = similar_neighbors(G, node_id, 7)\n",
    "\n",
    "print(f'Similar neighbors of node {node_id} with threshold 7: {simil_neighbors}')"
   ]
  },
  {
   "cell_type": "code",
   "execution_count": null,
   "metadata": {},
   "outputs": [],
   "source": [
    "node_colors = ['red' if node == node_id else 'green' if node in simil_neighbors else 'blue' for node in G.nodes]\n",
    "node_sizes = [100 if node == node_id else 60 if node in simil_neighbors else 0.2 for node in G.nodes]\n",
    "\n",
    "pos = nx.spring_layout(G)\n",
    "nx.draw_networkx_nodes(G, pos, node_color=node_colors, node_size=node_sizes)"
   ]
  },
  {
   "cell_type": "markdown",
   "metadata": {},
   "source": [
    "Graphe de répartition des jeux pour chaque user"
   ]
  },
  {
   "cell_type": "code",
   "execution_count": null,
   "metadata": {},
   "outputs": [],
   "source": [
    "G = nx.Graph()\n",
    "for streamer, target in data_raw.items():\n",
    "    G.add_node(streamer)\n",
    "    G.add_edges_from(list(zip(streamer, target)))\n",
    "\n",
    "nx.draw(G, with_labels=False, node_size=50, node_color='skyblue', edge_color='gray')"
   ]
  },
  {
   "cell_type": "code",
   "execution_count": null,
   "metadata": {},
   "outputs": [],
   "source": [
    "partition = community_louvain.best_partition(G)\n",
    "pos = nx.spring_layout(G)\n",
    "cmap = plt.get_cmap('viridis', max(partition.values()) + 1)\n",
    "\n",
    "plt.figure(figsize=(10, 10))\n",
    "nx.draw_networkx_nodes(G, pos, partition.keys(), node_size=40, cmap=cmap, node_color=list(partition.values()))\n",
    "nx.draw_networkx_edges(G, pos, alpha=0.5)\n",
    "plt.title(\"Community Detection using Louvain Method\")\n",
    "plt.show()"
   ]
  },
  {
   "cell_type": "code",
   "execution_count": null,
   "metadata": {},
   "outputs": [],
   "source": [
    "def features_predictions(data, node, threshold=5, neighbors=None):\n",
    "    feature_predict = []\n",
    "\n",
    "    def __get_new_features(node, features_predict, n, threshold=5):\n",
    "        same_features = set(data[str(node)]).intersection(set(data[str(n)]))\n",
    "        distinct_features = set(data[str(node)]).difference(set(data[str(n)]))\n",
    "\n",
    "        if len(same_features) >= threshold:\n",
    "            features_predict += distinct_features\n",
    "\n",
    "        return features_predict\n",
    "\n",
    "    if neighbors is not None:\n",
    "        for n in neighbors:\n",
    "            feature_predict = __get_new_features(node, feature_predict, n, threshold)\n",
    "    else:\n",
    "        for key, value in data.items():\n",
    "            if key == node:\n",
    "                continue\n",
    "\n",
    "            feature_predict = __get_new_features(node, feature_predict, n, threshold)\n",
    "\n",
    "    return list(set(feature_predict))\n",
    "\n",
    "feature_predict = features_predictions(data_raw, node_id, 7, simil_neighbors)\n",
    "\n",
    "print(f'Feature prediction for node {node_id}: {feature_predict}')"
   ]
  },
  {
   "cell_type": "code",
   "execution_count": null,
   "metadata": {},
   "outputs": [],
   "source": []
  }
 ],
 "metadata": {
  "kernelspec": {
   "display_name": "Python 3",
   "language": "python",
   "name": "python3"
  },
  "language_info": {
   "codemirror_mode": {
    "name": "ipython",
    "version": 3
   },
   "file_extension": ".py",
   "mimetype": "text/x-python",
   "name": "python",
   "nbconvert_exporter": "python",
   "pygments_lexer": "ipython3",
   "version": "3.12.4"
  }
 },
 "nbformat": 4,
 "nbformat_minor": 2
}
